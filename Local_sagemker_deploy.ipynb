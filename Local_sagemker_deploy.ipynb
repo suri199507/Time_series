{
 "cells": [
  {
   "cell_type": "code",
   "execution_count": 4,
   "metadata": {},
   "outputs": [],
   "source": [
    "import sagemaker\n",
    "import boto3\n",
    "import pandas as pd\n"
   ]
  },
  {
   "cell_type": "code",
   "execution_count": 5,
   "metadata": {},
   "outputs": [
    {
     "name": "stdout",
     "output_type": "stream",
     "text": [
      "arn:aws:iam::534860077983:role/sagemaker_notebook_role\n"
     ]
    }
   ],
   "source": [
    "\n",
    "from sagemaker import get_execution_role\n",
    "\n",
    "sagemaker_session = sagemaker.Session()\n",
    "\n",
    "# Get a SageMaker-compatible role used by this Notebook Instance.\n",
    "role = 'arn:aws:iam::534860077983:role/sagemaker_notebook_role'\n",
    "print(role)"
   ]
  },
  {
   "cell_type": "code",
   "execution_count": 6,
   "metadata": {
    "scrolled": true
   },
   "outputs": [],
   "source": [
    "\n",
    "bucket='sagemaker12'\n",
    "data_key = 'forecast/Building_Dummy_New_car&parts_sales_by_model.xlsx'\n",
    "data_location = 's3://{}/{}'.format(bucket, data_key)\n",
    "df=pd.read_excel(data_location)\n"
   ]
  },
  {
   "cell_type": "code",
   "execution_count": 7,
   "metadata": {},
   "outputs": [],
   "source": [
    "df['Date']=pd.to_datetime(df[['Year', 'Month']].assign(DAY=1))"
   ]
  },
  {
   "cell_type": "code",
   "execution_count": 8,
   "metadata": {},
   "outputs": [
    {
     "data": {
      "text/html": [
       "<div>\n",
       "<style scoped>\n",
       "    .dataframe tbody tr th:only-of-type {\n",
       "        vertical-align: middle;\n",
       "    }\n",
       "\n",
       "    .dataframe tbody tr th {\n",
       "        vertical-align: top;\n",
       "    }\n",
       "\n",
       "    .dataframe thead th {\n",
       "        text-align: right;\n",
       "    }\n",
       "</style>\n",
       "<table border=\"1\" class=\"dataframe\">\n",
       "  <thead>\n",
       "    <tr style=\"text-align: right;\">\n",
       "      <th></th>\n",
       "      <th>Year</th>\n",
       "      <th>Month</th>\n",
       "      <th>Make</th>\n",
       "      <th>Model</th>\n",
       "      <th>Door_Handles_Sold</th>\n",
       "      <th>Tires_Sold</th>\n",
       "      <th>Brake_Hydraulic_Hose_Sold</th>\n",
       "      <th>Air_Suspension_Sold</th>\n",
       "      <th>Window_Regulators_Sold</th>\n",
       "      <th>Date</th>\n",
       "    </tr>\n",
       "  </thead>\n",
       "  <tbody>\n",
       "    <tr>\n",
       "      <th>0</th>\n",
       "      <td>2007</td>\n",
       "      <td>1</td>\n",
       "      <td>Volkswagen</td>\n",
       "      <td>Volkswagen Passat</td>\n",
       "      <td>1267</td>\n",
       "      <td>276</td>\n",
       "      <td>392</td>\n",
       "      <td>547</td>\n",
       "      <td>187</td>\n",
       "      <td>2007-01-01</td>\n",
       "    </tr>\n",
       "    <tr>\n",
       "      <th>1</th>\n",
       "      <td>2007</td>\n",
       "      <td>2</td>\n",
       "      <td>Volkswagen</td>\n",
       "      <td>Volkswagen Passat</td>\n",
       "      <td>602</td>\n",
       "      <td>258</td>\n",
       "      <td>326</td>\n",
       "      <td>333</td>\n",
       "      <td>118</td>\n",
       "      <td>2007-02-01</td>\n",
       "    </tr>\n",
       "    <tr>\n",
       "      <th>2</th>\n",
       "      <td>2007</td>\n",
       "      <td>3</td>\n",
       "      <td>Volkswagen</td>\n",
       "      <td>Volkswagen Passat</td>\n",
       "      <td>521</td>\n",
       "      <td>268</td>\n",
       "      <td>338</td>\n",
       "      <td>544</td>\n",
       "      <td>177</td>\n",
       "      <td>2007-03-01</td>\n",
       "    </tr>\n",
       "    <tr>\n",
       "      <th>3</th>\n",
       "      <td>2007</td>\n",
       "      <td>3</td>\n",
       "      <td>Toyota</td>\n",
       "      <td>Toyota Avensis</td>\n",
       "      <td>521</td>\n",
       "      <td>259</td>\n",
       "      <td>321</td>\n",
       "      <td>767</td>\n",
       "      <td>149</td>\n",
       "      <td>2007-03-01</td>\n",
       "    </tr>\n",
       "    <tr>\n",
       "      <th>4</th>\n",
       "      <td>2007</td>\n",
       "      <td>3</td>\n",
       "      <td>Volkswagen</td>\n",
       "      <td>Volkswagen Golf</td>\n",
       "      <td>402</td>\n",
       "      <td>226</td>\n",
       "      <td>247</td>\n",
       "      <td>343</td>\n",
       "      <td>644</td>\n",
       "      <td>2007-03-01</td>\n",
       "    </tr>\n",
       "  </tbody>\n",
       "</table>\n",
       "</div>"
      ],
      "text/plain": [
       "   Year  Month         Make              Model  Door_Handles_Sold  Tires_Sold  \\\n",
       "0  2007      1  Volkswagen   Volkswagen Passat               1267         276   \n",
       "1  2007      2  Volkswagen   Volkswagen Passat                602         258   \n",
       "2  2007      3  Volkswagen   Volkswagen Passat                521         268   \n",
       "3  2007      3      Toyota      Toyota Avensis                521         259   \n",
       "4  2007      3  Volkswagen     Volkswagen Golf                402         226   \n",
       "\n",
       "   Brake_Hydraulic_Hose_Sold  Air_Suspension_Sold  Window_Regulators_Sold  \\\n",
       "0                        392                  547                     187   \n",
       "1                        326                  333                     118   \n",
       "2                        338                  544                     177   \n",
       "3                        321                  767                     149   \n",
       "4                        247                  343                     644   \n",
       "\n",
       "        Date  \n",
       "0 2007-01-01  \n",
       "1 2007-02-01  \n",
       "2 2007-03-01  \n",
       "3 2007-03-01  \n",
       "4 2007-03-01  "
      ]
     },
     "execution_count": 8,
     "metadata": {},
     "output_type": "execute_result"
    }
   ],
   "source": [
    "df.head()"
   ]
  },
  {
   "cell_type": "code",
   "execution_count": 9,
   "metadata": {},
   "outputs": [],
   "source": [
    "dd=df.groupby(['Date'])['Door_Handles_Sold'].sum().reset_index()"
   ]
  },
  {
   "cell_type": "code",
   "execution_count": 10,
   "metadata": {},
   "outputs": [],
   "source": [
    "dd.set_index(dd['Date'], inplace=True) "
   ]
  },
  {
   "cell_type": "code",
   "execution_count": 11,
   "metadata": {},
   "outputs": [],
   "source": [
    "dd=dd.drop(['Date'],axis=1)"
   ]
  },
  {
   "cell_type": "code",
   "execution_count": 60,
   "metadata": {},
   "outputs": [],
   "source": [
    "train = dd.iloc[:109]\n",
    "test= dd.iloc[109:]  "
   ]
  },
  {
   "cell_type": "code",
   "execution_count": 61,
   "metadata": {},
   "outputs": [],
   "source": [
    "scaler = MinMaxScaler(feature_range=(0, 1))\n",
    "train_sc= scaler.fit_transform(train)"
   ]
  },
  {
   "cell_type": "code",
   "execution_count": 70,
   "metadata": {},
   "outputs": [],
   "source": [
    "scaler = MinMaxScaler(feature_range=(0, 1))\n",
    "test_sc= scaler.fit_transform(test)"
   ]
  },
  {
   "cell_type": "code",
   "execution_count": 71,
   "metadata": {},
   "outputs": [],
   "source": [
    "test_d=np.array(test_sc)"
   ]
  },
  {
   "cell_type": "code",
   "execution_count": 72,
   "metadata": {},
   "outputs": [],
   "source": [
    "te=np.reshape(test_d, (test_d.shape[0], 1, test_d.shape[1]))"
   ]
  },
  {
   "cell_type": "code",
   "execution_count": 62,
   "metadata": {},
   "outputs": [],
   "source": [
    "tr_size = int(len(train_sc) * 0.60)\n",
    "tst_size = len(train_sc) - tr_size\n",
    "tr, tst = ds[0:tr_size,:], ds[tr_size:len(ds),:]"
   ]
  },
  {
   "cell_type": "code",
   "execution_count": 63,
   "metadata": {},
   "outputs": [],
   "source": [
    "def prepare_data(dataset, look_back=1):\n",
    "    dX, dY = [], []\n",
    "    for i in range(len(dataset)-look_back-1):\n",
    "        a = dataset[i:(i+look_back), 0]\n",
    "        dX.append(a)\n",
    "        dY.append(dataset[i + look_back, 0])\n",
    "    return np.array(dX), np.array(dY)"
   ]
  },
  {
   "cell_type": "code",
   "execution_count": 64,
   "metadata": {},
   "outputs": [],
   "source": [
    "look_back = 1\n",
    "trX, trY = prepare_data(tr, look_back)\n",
    "tstX, tstY = prepare_data(tst, look_back)\n",
    "# reshape input to be [samples, time steps, features]\n",
    "trX = np.reshape(trX, (trX.shape[0], 1, trX.shape[1]))\n",
    "tstX = np.reshape(tstX, (tstX.shape[0], 1, tstX.shape[1]))"
   ]
  },
  {
   "cell_type": "code",
   "execution_count": 66,
   "metadata": {},
   "outputs": [],
   "source": [
    "#import tensorflow \n",
    "from keras.models import Sequential\n",
    "from keras.layers import Dense\n",
    "from keras.layers import LSTM\n",
    "from sklearn.preprocessing import MinMaxScaler\n",
    "from keras.preprocessing.sequence import TimeseriesGenerator\n",
    "\n",
    "from sklearn.metrics import mean_squared_error"
   ]
  },
  {
   "cell_type": "code",
   "execution_count": 67,
   "metadata": {},
   "outputs": [],
   "source": [
    "model = Sequential()\n",
    "\n",
    "model.add(LSTM(4, input_shape=(1, look_back)))\n",
    "model.add(Dense(1))\n",
    "model.compile(optimizer='adam', loss='mse')\n"
   ]
  },
  {
   "cell_type": "code",
   "execution_count": 68,
   "metadata": {},
   "outputs": [
    {
     "name": "stdout",
     "output_type": "stream",
     "text": [
      "Model: \"sequential_2\"\n",
      "_________________________________________________________________\n",
      "Layer (type)                 Output Shape              Param #   \n",
      "=================================================================\n",
      "lstm_2 (LSTM)                (None, 4)                 96        \n",
      "_________________________________________________________________\n",
      "dense_2 (Dense)              (None, 1)                 5         \n",
      "=================================================================\n",
      "Total params: 101\n",
      "Trainable params: 101\n",
      "Non-trainable params: 0\n",
      "_________________________________________________________________\n"
     ]
    }
   ],
   "source": [
    "model.summary()"
   ]
  },
  {
   "cell_type": "code",
   "execution_count": 78,
   "metadata": {},
   "outputs": [
    {
     "name": "stdout",
     "output_type": "stream",
     "text": [
      "Train on 63 samples, validate on 54 samples\n",
      "Epoch 1/100\n",
      " - 0s - loss: 0.0066 - val_loss: 0.0261\n",
      "Epoch 2/100\n",
      " - 0s - loss: 0.0067 - val_loss: 0.0258\n",
      "Epoch 3/100\n",
      " - 0s - loss: 0.0067 - val_loss: 0.0264\n",
      "Epoch 4/100\n",
      " - 0s - loss: 0.0067 - val_loss: 0.0262\n",
      "Epoch 5/100\n",
      " - 0s - loss: 0.0068 - val_loss: 0.0253\n",
      "Epoch 6/100\n",
      " - 0s - loss: 0.0067 - val_loss: 0.0266\n",
      "Epoch 7/100\n",
      " - 0s - loss: 0.0067 - val_loss: 0.0263\n",
      "Epoch 8/100\n",
      " - 0s - loss: 0.0067 - val_loss: 0.0272\n",
      "Epoch 9/100\n",
      " - 0s - loss: 0.0067 - val_loss: 0.0266\n",
      "Epoch 10/100\n",
      " - 0s - loss: 0.0067 - val_loss: 0.0270\n",
      "Epoch 11/100\n",
      " - 0s - loss: 0.0067 - val_loss: 0.0260\n",
      "Epoch 12/100\n",
      " - 0s - loss: 0.0068 - val_loss: 0.0259\n",
      "Epoch 13/100\n",
      " - 0s - loss: 0.0067 - val_loss: 0.0262\n",
      "Epoch 14/100\n",
      " - 0s - loss: 0.0067 - val_loss: 0.0270\n",
      "Epoch 15/100\n",
      " - 0s - loss: 0.0067 - val_loss: 0.0273\n",
      "Epoch 16/100\n",
      " - 0s - loss: 0.0066 - val_loss: 0.0256\n",
      "Epoch 17/100\n",
      " - 0s - loss: 0.0067 - val_loss: 0.0267\n",
      "Epoch 18/100\n",
      " - 0s - loss: 0.0066 - val_loss: 0.0256\n",
      "Epoch 19/100\n",
      " - 0s - loss: 0.0066 - val_loss: 0.0271\n",
      "Epoch 20/100\n",
      " - 0s - loss: 0.0067 - val_loss: 0.0273\n",
      "Epoch 21/100\n",
      " - 0s - loss: 0.0067 - val_loss: 0.0264\n",
      "Epoch 22/100\n",
      " - 0s - loss: 0.0067 - val_loss: 0.0257\n",
      "Epoch 23/100\n",
      " - 0s - loss: 0.0067 - val_loss: 0.0275\n",
      "Epoch 24/100\n",
      " - 0s - loss: 0.0067 - val_loss: 0.0269\n",
      "Epoch 25/100\n",
      " - 0s - loss: 0.0067 - val_loss: 0.0275\n",
      "Epoch 26/100\n",
      " - 0s - loss: 0.0067 - val_loss: 0.0264\n",
      "Epoch 27/100\n",
      " - 0s - loss: 0.0067 - val_loss: 0.0258\n",
      "Epoch 28/100\n",
      " - 0s - loss: 0.0067 - val_loss: 0.0265\n",
      "Epoch 29/100\n",
      " - 0s - loss: 0.0067 - val_loss: 0.0269\n",
      "Epoch 30/100\n",
      " - 0s - loss: 0.0067 - val_loss: 0.0267\n",
      "Epoch 31/100\n",
      " - 0s - loss: 0.0067 - val_loss: 0.0275\n",
      "Epoch 32/100\n",
      " - 0s - loss: 0.0066 - val_loss: 0.0263\n",
      "Epoch 33/100\n",
      " - 0s - loss: 0.0068 - val_loss: 0.0272\n",
      "Epoch 34/100\n",
      " - 0s - loss: 0.0067 - val_loss: 0.0272\n",
      "Epoch 35/100\n",
      " - 0s - loss: 0.0068 - val_loss: 0.0275\n",
      "Epoch 36/100\n",
      " - 0s - loss: 0.0068 - val_loss: 0.0264\n",
      "Epoch 37/100\n",
      " - 0s - loss: 0.0066 - val_loss: 0.0270\n",
      "Epoch 38/100\n",
      " - 0s - loss: 0.0068 - val_loss: 0.0258\n",
      "Epoch 39/100\n",
      " - 0s - loss: 0.0067 - val_loss: 0.0271\n",
      "Epoch 40/100\n",
      " - 0s - loss: 0.0066 - val_loss: 0.0267\n",
      "Epoch 41/100\n",
      " - 0s - loss: 0.0067 - val_loss: 0.0258\n",
      "Epoch 42/100\n",
      " - 0s - loss: 0.0067 - val_loss: 0.0263\n",
      "Epoch 43/100\n",
      " - 0s - loss: 0.0067 - val_loss: 0.0255\n",
      "Epoch 44/100\n",
      " - 0s - loss: 0.0067 - val_loss: 0.0267\n",
      "Epoch 45/100\n",
      " - 0s - loss: 0.0067 - val_loss: 0.0277\n",
      "Epoch 46/100\n",
      " - 0s - loss: 0.0067 - val_loss: 0.0266\n",
      "Epoch 47/100\n",
      " - 0s - loss: 0.0066 - val_loss: 0.0263\n",
      "Epoch 48/100\n",
      " - 0s - loss: 0.0067 - val_loss: 0.0265\n",
      "Epoch 49/100\n",
      " - 0s - loss: 0.0067 - val_loss: 0.0263\n",
      "Epoch 50/100\n",
      " - 0s - loss: 0.0068 - val_loss: 0.0279\n",
      "Epoch 51/100\n",
      " - 0s - loss: 0.0067 - val_loss: 0.0258\n",
      "Epoch 52/100\n",
      " - 0s - loss: 0.0068 - val_loss: 0.0272\n",
      "Epoch 53/100\n",
      " - 0s - loss: 0.0067 - val_loss: 0.0272\n",
      "Epoch 54/100\n",
      " - 0s - loss: 0.0067 - val_loss: 0.0268\n",
      "Epoch 55/100\n",
      " - 0s - loss: 0.0067 - val_loss: 0.0265\n",
      "Epoch 56/100\n",
      " - 0s - loss: 0.0067 - val_loss: 0.0269\n",
      "Epoch 57/100\n",
      " - 0s - loss: 0.0068 - val_loss: 0.0266\n",
      "Epoch 58/100\n",
      " - 0s - loss: 0.0067 - val_loss: 0.0263\n",
      "Epoch 59/100\n",
      " - 0s - loss: 0.0068 - val_loss: 0.0264\n",
      "Epoch 60/100\n",
      " - 0s - loss: 0.0067 - val_loss: 0.0269\n",
      "Epoch 61/100\n",
      " - 0s - loss: 0.0066 - val_loss: 0.0266\n",
      "Epoch 62/100\n",
      " - 0s - loss: 0.0067 - val_loss: 0.0266\n",
      "Epoch 63/100\n",
      " - 0s - loss: 0.0067 - val_loss: 0.0267\n",
      "Epoch 64/100\n",
      " - 0s - loss: 0.0066 - val_loss: 0.0265\n",
      "Epoch 65/100\n",
      " - 0s - loss: 0.0067 - val_loss: 0.0273\n",
      "Epoch 66/100\n",
      " - 0s - loss: 0.0067 - val_loss: 0.0259\n",
      "Epoch 67/100\n",
      " - 0s - loss: 0.0068 - val_loss: 0.0272\n",
      "Epoch 68/100\n",
      " - 0s - loss: 0.0067 - val_loss: 0.0276\n",
      "Epoch 69/100\n",
      " - 0s - loss: 0.0069 - val_loss: 0.0282\n",
      "Epoch 70/100\n",
      " - 0s - loss: 0.0067 - val_loss: 0.0265\n",
      "Epoch 71/100\n",
      " - 0s - loss: 0.0067 - val_loss: 0.0262\n",
      "Epoch 72/100\n",
      " - 0s - loss: 0.0067 - val_loss: 0.0267\n",
      "Epoch 73/100\n",
      " - 0s - loss: 0.0067 - val_loss: 0.0267\n",
      "Epoch 74/100\n",
      " - 0s - loss: 0.0067 - val_loss: 0.0264\n",
      "Epoch 75/100\n",
      " - 0s - loss: 0.0067 - val_loss: 0.0264\n",
      "Epoch 76/100\n",
      " - 0s - loss: 0.0067 - val_loss: 0.0281\n",
      "Epoch 77/100\n",
      " - 0s - loss: 0.0068 - val_loss: 0.0262\n",
      "Epoch 78/100\n",
      " - 0s - loss: 0.0067 - val_loss: 0.0276\n",
      "Epoch 79/100\n",
      " - 0s - loss: 0.0066 - val_loss: 0.0271\n",
      "Epoch 80/100\n",
      " - 0s - loss: 0.0066 - val_loss: 0.0262\n",
      "Epoch 81/100\n",
      " - 0s - loss: 0.0067 - val_loss: 0.0264\n",
      "Epoch 82/100\n",
      " - 0s - loss: 0.0066 - val_loss: 0.0270\n",
      "Epoch 83/100\n",
      " - 0s - loss: 0.0066 - val_loss: 0.0271\n",
      "Epoch 84/100\n",
      " - 0s - loss: 0.0067 - val_loss: 0.0271\n",
      "Epoch 85/100\n",
      " - 0s - loss: 0.0067 - val_loss: 0.0258\n",
      "Epoch 86/100\n",
      " - 0s - loss: 0.0066 - val_loss: 0.0273\n",
      "Epoch 87/100\n",
      " - 0s - loss: 0.0066 - val_loss: 0.0277\n",
      "Epoch 88/100\n",
      " - 0s - loss: 0.0067 - val_loss: 0.0268\n",
      "Epoch 89/100\n",
      " - 0s - loss: 0.0067 - val_loss: 0.0276\n",
      "Epoch 90/100\n",
      " - 0s - loss: 0.0067 - val_loss: 0.0268\n",
      "Epoch 91/100\n",
      " - 0s - loss: 0.0067 - val_loss: 0.0279\n",
      "Epoch 92/100\n",
      " - 0s - loss: 0.0068 - val_loss: 0.0265\n",
      "Epoch 93/100\n",
      " - 0s - loss: 0.0067 - val_loss: 0.0269\n",
      "Epoch 94/100\n",
      " - 0s - loss: 0.0068 - val_loss: 0.0273\n",
      "Epoch 95/100\n",
      " - 0s - loss: 0.0068 - val_loss: 0.0262\n",
      "Epoch 96/100\n",
      " - 0s - loss: 0.0067 - val_loss: 0.0260\n",
      "Epoch 97/100\n",
      " - 0s - loss: 0.0068 - val_loss: 0.0269\n",
      "Epoch 98/100\n",
      " - 0s - loss: 0.0067 - val_loss: 0.0274\n",
      "Epoch 99/100\n",
      " - 0s - loss: 0.0066 - val_loss: 0.0263\n",
      "Epoch 100/100\n",
      " - 0s - loss: 0.0067 - val_loss: 0.0262\n"
     ]
    }
   ],
   "source": [
    "fcst=model.fit(trX, trY,validation_data=(tstX, tstY),epochs=100, batch_size=1, verbose=2)"
   ]
  },
  {
   "cell_type": "code",
   "execution_count": 73,
   "metadata": {},
   "outputs": [],
   "source": [
    "pred=model.predict(te)"
   ]
  },
  {
   "cell_type": "code",
   "execution_count": 75,
   "metadata": {},
   "outputs": [],
   "source": [
    "p=scaler.inverse_transform(pred)"
   ]
  },
  {
   "cell_type": "code",
   "execution_count": 76,
   "metadata": {},
   "outputs": [
    {
     "data": {
      "text/plain": [
       "array([[8469.432 ],\n",
       "       [7751.002 ],\n",
       "       [7972.7427],\n",
       "       [7618.116 ],\n",
       "       [7060.5728],\n",
       "       [7385.2925],\n",
       "       [6507.617 ],\n",
       "       [6569.2495],\n",
       "       [6355.883 ],\n",
       "       [7008.477 ],\n",
       "       [6934.1606],\n",
       "       [7079.816 ]], dtype=float32)"
      ]
     },
     "execution_count": 76,
     "metadata": {},
     "output_type": "execute_result"
    }
   ],
   "source": [
    "p"
   ]
  },
  {
   "cell_type": "code",
   "execution_count": null,
   "metadata": {},
   "outputs": [],
   "source": []
  }
 ],
 "metadata": {
  "kernelspec": {
   "display_name": "Python 3",
   "language": "python",
   "name": "python3"
  },
  "language_info": {
   "codemirror_mode": {
    "name": "ipython",
    "version": 3
   },
   "file_extension": ".py",
   "mimetype": "text/x-python",
   "name": "python",
   "nbconvert_exporter": "python",
   "pygments_lexer": "ipython3",
   "version": "3.7.6"
  }
 },
 "nbformat": 4,
 "nbformat_minor": 4
}
